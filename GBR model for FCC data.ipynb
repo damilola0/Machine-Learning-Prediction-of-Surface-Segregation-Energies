{
 "cells": [
  {
   "cell_type": "code",
   "execution_count": 24,
   "metadata": {},
   "outputs": [],
   "source": [
    "import numpy as np\n",
    "import pandas as pd\n",
    "import matplotlib.pyplot as plt\n",
    "from sklearn.preprocessing import LabelEncoder\n",
    "from sklearn.metrics import mean_squared_error\n",
    "from sklearn.ensemble import GradientBoostingRegressor\n",
    "from sklearn.model_selection import train_test_split\n",
    "\n",
    "\n",
    "data = pd.read_excel(r\"C:\\Users\\Damilola Ologunagba\\Desktop\\MLDATA\\FCCdata.xlsx\")\n",
    "encode = LabelEncoder()\n",
    "data.System = encode.fit_transform(data.System)\n",
    "train , test = train_test_split(data,test_size=0.2,random_state=8)\n",
    "\n",
    "train_x = train.drop(columns=['Surface Segregation energy', 'System'],axis=1)\n",
    "train_y = train['Surface Segregation energy']\n",
    "test_x  = test.drop(columns=['Surface Segregation energy', 'System'],axis=1)\n",
    "test_y  = test['Surface Segregation energy']\n",
    "\n",
    "est = GradientBoostingRegressor(n_estimators=200, learning_rate=0.1, max_depth=3, random_state=9).fit(train_x, train_y)\n",
    "prediction = est.predict(test_x)\n",
    "prediction1 = est.predict(train_x)"
   ]
  },
  {
   "cell_type": "code",
   "execution_count": 25,
   "metadata": {},
   "outputs": [
    {
     "data": {
      "text/plain": [
       "0.9959318129383593"
      ]
     },
     "execution_count": 25,
     "metadata": {},
     "output_type": "execute_result"
    }
   ],
   "source": [
    "from sklearn.metrics import r2_score\n",
    "r2_score(train_y, prediction1)"
   ]
  },
  {
   "cell_type": "code",
   "execution_count": 26,
   "metadata": {
    "scrolled": true
   },
   "outputs": [
    {
     "name": "stdout",
     "output_type": "stream",
     "text": [
      "0.1441390804753884\n"
     ]
    }
   ],
   "source": [
    "# print result of RMSE for the test set\n",
    "from sklearn import metrics\n",
    "print(np.sqrt(metrics.mean_squared_error(test_y, prediction)))"
   ]
  },
  {
   "cell_type": "code",
   "execution_count": 27,
   "metadata": {},
   "outputs": [
    {
     "data": {
      "text/plain": [
       "0.8820772600400767"
      ]
     },
     "execution_count": 27,
     "metadata": {},
     "output_type": "execute_result"
    }
   ],
   "source": [
    "from sklearn.metrics import r2_score\n",
    "r2_score(test_y, prediction)"
   ]
  },
  {
   "cell_type": "code",
   "execution_count": 20,
   "metadata": {
    "scrolled": true
   },
   "outputs": [
    {
     "name": "stdout",
     "output_type": "stream",
     "text": [
      "0.02950919019485425\n"
     ]
    }
   ],
   "source": [
    "# print result of RMSE for the train set\n",
    "from sklearn import metrics\n",
    "print(np.sqrt(metrics.mean_squared_error(train_y, prediction1)))"
   ]
  },
  {
   "cell_type": "code",
   "execution_count": 21,
   "metadata": {},
   "outputs": [
    {
     "data": {
      "text/plain": [
       "0.11246473909205872"
      ]
     },
     "execution_count": 21,
     "metadata": {},
     "output_type": "execute_result"
    }
   ],
   "source": [
    "from sklearn.metrics import mean_absolute_error\n",
    "mean_absolute_error(test_y, prediction)"
   ]
  },
  {
   "cell_type": "code",
   "execution_count": 22,
   "metadata": {},
   "outputs": [
    {
     "data": {
      "text/plain": [
       "0.0220461546066933"
      ]
     },
     "execution_count": 22,
     "metadata": {},
     "output_type": "execute_result"
    }
   ],
   "source": [
    "from sklearn.metrics import mean_absolute_error\n",
    "mean_absolute_error(train_y, prediction1)"
   ]
  },
  {
   "cell_type": "code",
   "execution_count": 23,
   "metadata": {},
   "outputs": [
    {
     "data": {
      "image/png": "[encoded data removed]",
      "text/plain": [
       "<Figure size 216x216 with 1 Axes>"
      ]
     },
     "metadata": {
      "needs_background": "light"
     },
     "output_type": "display_data"
    }
   ],
   "source": [
    "lineStart = test_y.min() \n",
    "lineEnd = prediction.max()  \n",
    "\n",
    "plt.figure(figsize=(3,3))\n",
    "plt.scatter(train_y, prediction1,\n",
    "          c = 'black', marker = 'o', s = 35, alpha = 0.5,\n",
    "          label = 'Train')\n",
    "plt.scatter(test_y,prediction,\n",
    "          c = 'blue', marker = 'o', s = 35, alpha = 0.5,\n",
    "          label = 'Test')\n",
    "\n",
    "plt.title('GBR for FCC metals')\n",
    "plt.tight_layout()\n",
    "axes = plt.gca()\n",
    "axes.set_xlim([-2.6,2.1])\n",
    "axes.set_ylim([-2.6,2.1])\n",
    "\n",
    "diag_line, = axes.plot(axes.get_xlim(), axes.get_ylim(), ls=\"--\", c=\"black\")\n",
    "axes.tick_params(axis=\"y\",direction=\"in\")\n",
    "axes.tick_params(axis=\"x\",direction=\"in\")\n",
    "\n",
    "plt.xlabel('Actual SSE (eV)')\n",
    "plt.ylabel('Predicted SSE (eV)')\n",
    "\n",
    "plt.legend(loc='upper left')\n",
    "\n",
    "plt.savefig('GBR for FCC metals.png', dpi=2000)\n",
    "\n",
    "from PIL import Image, ImageEnhance \n",
    "im = Image.open(\"GBR for FCC metals.png\")\n",
    "enhancer = ImageEnhance.Sharpness(im)\n",
    "enhanced_im = enhancer.enhance(20000.0)\n",
    "enhanced_im.save(\"GBR for FCC metals enhanced.png\")\n"
   ]
  },
  {
   "cell_type": "code",
   "execution_count": 112,
   "metadata": {},
   "outputs": [
    {
     "data": {
      "text/html": [
       "<div>\n",
       "<style scoped>\n",
       "    .dataframe tbody tr th:only-of-type {\n",
       "        vertical-align: middle;\n",
       "    }\n",
       "\n",
       "    .dataframe tbody tr th {\n",
       "        vertical-align: top;\n",
       "    }\n",
       "\n",
       "    .dataframe thead th {\n",
       "        text-align: right;\n",
       "    }\n",
       "</style>\n",
       "<table border=\"1\" class=\"dataframe\">\n",
       "  <thead>\n",
       "    <tr style=\"text-align: right;\">\n",
       "      <th></th>\n",
       "      <th>Actual Surface Segregation Energy</th>\n",
       "      <th>Predicted Surface Segregation Energy</th>\n",
       "    </tr>\n",
       "  </thead>\n",
       "  <tbody>\n",
       "    <tr>\n",
       "      <th>171</th>\n",
       "      <td>0.31</td>\n",
       "      <td>0.188844</td>\n",
       "    </tr>\n",
       "    <tr>\n",
       "      <th>23</th>\n",
       "      <td>0.46</td>\n",
       "      <td>0.509648</td>\n",
       "    </tr>\n",
       "    <tr>\n",
       "      <th>99</th>\n",
       "      <td>0.04</td>\n",
       "      <td>0.152761</td>\n",
       "    </tr>\n",
       "    <tr>\n",
       "      <th>134</th>\n",
       "      <td>0.56</td>\n",
       "      <td>0.518160</td>\n",
       "    </tr>\n",
       "    <tr>\n",
       "      <th>1</th>\n",
       "      <td>0.98</td>\n",
       "      <td>0.810100</td>\n",
       "    </tr>\n",
       "    <tr>\n",
       "      <th>90</th>\n",
       "      <td>0.34</td>\n",
       "      <td>0.322913</td>\n",
       "    </tr>\n",
       "    <tr>\n",
       "      <th>101</th>\n",
       "      <td>0.87</td>\n",
       "      <td>0.583348</td>\n",
       "    </tr>\n",
       "    <tr>\n",
       "      <th>158</th>\n",
       "      <td>0.23</td>\n",
       "      <td>0.309800</td>\n",
       "    </tr>\n",
       "    <tr>\n",
       "      <th>163</th>\n",
       "      <td>0.25</td>\n",
       "      <td>0.104431</td>\n",
       "    </tr>\n",
       "    <tr>\n",
       "      <th>52</th>\n",
       "      <td>0.12</td>\n",
       "      <td>0.035469</td>\n",
       "    </tr>\n",
       "    <tr>\n",
       "      <th>106</th>\n",
       "      <td>-0.26</td>\n",
       "      <td>-0.026919</td>\n",
       "    </tr>\n",
       "    <tr>\n",
       "      <th>157</th>\n",
       "      <td>0.48</td>\n",
       "      <td>0.484748</td>\n",
       "    </tr>\n",
       "    <tr>\n",
       "      <th>126</th>\n",
       "      <td>0.46</td>\n",
       "      <td>0.311047</td>\n",
       "    </tr>\n",
       "    <tr>\n",
       "      <th>139</th>\n",
       "      <td>0.25</td>\n",
       "      <td>0.232411</td>\n",
       "    </tr>\n",
       "    <tr>\n",
       "      <th>110</th>\n",
       "      <td>1.34</td>\n",
       "      <td>1.241371</td>\n",
       "    </tr>\n",
       "    <tr>\n",
       "      <th>94</th>\n",
       "      <td>0.30</td>\n",
       "      <td>0.598314</td>\n",
       "    </tr>\n",
       "    <tr>\n",
       "      <th>145</th>\n",
       "      <td>-0.64</td>\n",
       "      <td>-0.480846</td>\n",
       "    </tr>\n",
       "    <tr>\n",
       "      <th>3</th>\n",
       "      <td>0.38</td>\n",
       "      <td>0.495315</td>\n",
       "    </tr>\n",
       "    <tr>\n",
       "      <th>169</th>\n",
       "      <td>-0.26</td>\n",
       "      <td>-0.015200</td>\n",
       "    </tr>\n",
       "    <tr>\n",
       "      <th>149</th>\n",
       "      <td>0.20</td>\n",
       "      <td>0.216481</td>\n",
       "    </tr>\n",
       "    <tr>\n",
       "      <th>40</th>\n",
       "      <td>0.79</td>\n",
       "      <td>0.717688</td>\n",
       "    </tr>\n",
       "    <tr>\n",
       "      <th>89</th>\n",
       "      <td>0.55</td>\n",
       "      <td>0.665055</td>\n",
       "    </tr>\n",
       "    <tr>\n",
       "      <th>25</th>\n",
       "      <td>0.33</td>\n",
       "      <td>0.536856</td>\n",
       "    </tr>\n",
       "    <tr>\n",
       "      <th>26</th>\n",
       "      <td>0.30</td>\n",
       "      <td>0.394163</td>\n",
       "    </tr>\n",
       "    <tr>\n",
       "      <th>27</th>\n",
       "      <td>0.45</td>\n",
       "      <td>0.521763</td>\n",
       "    </tr>\n",
       "    <tr>\n",
       "      <th>69</th>\n",
       "      <td>0.45</td>\n",
       "      <td>0.380358</td>\n",
       "    </tr>\n",
       "    <tr>\n",
       "      <th>65</th>\n",
       "      <td>0.48</td>\n",
       "      <td>0.425126</td>\n",
       "    </tr>\n",
       "    <tr>\n",
       "      <th>4</th>\n",
       "      <td>0.37</td>\n",
       "      <td>0.632791</td>\n",
       "    </tr>\n",
       "    <tr>\n",
       "      <th>79</th>\n",
       "      <td>0.74</td>\n",
       "      <td>0.730671</td>\n",
       "    </tr>\n",
       "    <tr>\n",
       "      <th>76</th>\n",
       "      <td>0.22</td>\n",
       "      <td>0.162789</td>\n",
       "    </tr>\n",
       "    <tr>\n",
       "      <th>167</th>\n",
       "      <td>-0.25</td>\n",
       "      <td>-0.226088</td>\n",
       "    </tr>\n",
       "    <tr>\n",
       "      <th>179</th>\n",
       "      <td>0.53</td>\n",
       "      <td>0.489990</td>\n",
       "    </tr>\n",
       "    <tr>\n",
       "      <th>57</th>\n",
       "      <td>0.35</td>\n",
       "      <td>0.243381</td>\n",
       "    </tr>\n",
       "    <tr>\n",
       "      <th>17</th>\n",
       "      <td>0.95</td>\n",
       "      <td>0.895891</td>\n",
       "    </tr>\n",
       "    <tr>\n",
       "      <th>50</th>\n",
       "      <td>0.11</td>\n",
       "      <td>0.203589</td>\n",
       "    </tr>\n",
       "    <tr>\n",
       "      <th>116</th>\n",
       "      <td>0.35</td>\n",
       "      <td>0.278066</td>\n",
       "    </tr>\n",
       "    <tr>\n",
       "      <th>129</th>\n",
       "      <td>-0.92</td>\n",
       "      <td>-0.524386</td>\n",
       "    </tr>\n",
       "  </tbody>\n",
       "</table>\n",
       "</div>"
      ],
      "text/plain": [
       "     Actual Surface Segregation Energy  Predicted Surface Segregation Energy\n",
       "171                               0.31                              0.188844\n",
       "23                                0.46                              0.509648\n",
       "99                                0.04                              0.152761\n",
       "134                               0.56                              0.518160\n",
       "1                                 0.98                              0.810100\n",
       "90                                0.34                              0.322913\n",
       "101                               0.87                              0.583348\n",
       "158                               0.23                              0.309800\n",
       "163                               0.25                              0.104431\n",
       "52                                0.12                              0.035469\n",
       "106                              -0.26                             -0.026919\n",
       "157                               0.48                              0.484748\n",
       "126                               0.46                              0.311047\n",
       "139                               0.25                              0.232411\n",
       "110                               1.34                              1.241371\n",
       "94                                0.30                              0.598314\n",
       "145                              -0.64                             -0.480846\n",
       "3                                 0.38                              0.495315\n",
       "169                              -0.26                             -0.015200\n",
       "149                               0.20                              0.216481\n",
       "40                                0.79                              0.717688\n",
       "89                                0.55                              0.665055\n",
       "25                                0.33                              0.536856\n",
       "26                                0.30                              0.394163\n",
       "27                                0.45                              0.521763\n",
       "69                                0.45                              0.380358\n",
       "65                                0.48                              0.425126\n",
       "4                                 0.37                              0.632791\n",
       "79                                0.74                              0.730671\n",
       "76                                0.22                              0.162789\n",
       "167                              -0.25                             -0.226088\n",
       "179                               0.53                              0.489990\n",
       "57                                0.35                              0.243381\n",
       "17                                0.95                              0.895891\n",
       "50                                0.11                              0.203589\n",
       "116                               0.35                              0.278066\n",
       "129                              -0.92                             -0.524386"
      ]
     },
     "execution_count": 112,
     "metadata": {},
     "output_type": "execute_result"
    }
   ],
   "source": [
    "pd.set_option(\"max_rows\", None)\n",
    "df = pd.DataFrame({'Actual Surface Segregation Energy': test_y, 'Predicted Surface Segregation Energy': prediction})\n",
    "df"
   ]
  },
  {
   "cell_type": "code",
   "execution_count": 113,
   "metadata": {},
   "outputs": [
    {
     "name": "stdout",
     "output_type": "stream",
     "text": [
      "[2.42896945e-03 8.20775464e-02 1.05035767e-01 9.03562158e-04\n",
      " 6.78519631e-03 1.43205840e-01 1.80859221e-02 2.58413757e-02\n",
      " 2.19762177e-03 5.34071017e-05 6.48244572e-03 6.80956669e-02\n",
      " 5.28701804e-02 5.41297701e-03 3.62620978e-02 7.46745903e-02\n",
      " 2.01018427e-01 1.32832183e-01 3.45703470e-02 1.16587777e-03]\n"
     ]
    },
    {
     "data": {
      "image/png": "[encoded data removed]",
      "text/plain": [
       "<Figure size 432x288 with 1 Axes>"
      ]
     },
     "metadata": {
      "needs_background": "light"
     },
     "output_type": "display_data"
    }
   ],
   "source": [
    "import pandas as pd\n",
    "import numpy as np\n",
    "import seaborn as sns\n",
    "\n",
    "print(est.feature_importances_) #use inbuilt class feature_importances s\n",
    "#plot graph of feature importances for better visualization\n",
    "feat_importances = pd.Series(est.feature_importances_, index=train_x.columns)\n",
    "feat_importances.nlargest(22).plot(kind='bar')\n",
    "plt.show()"
   ]
  },
  {
   "cell_type": "code",
   "execution_count": 114,
   "metadata": {
    "scrolled": true
   },
   "outputs": [
    {
     "name": "stdout",
     "output_type": "stream",
     "text": [
      "[2.42896945e-03 8.20775464e-02 1.05035767e-01 9.03562158e-04\n",
      " 6.78519631e-03 1.43205840e-01 1.80859221e-02 2.58413757e-02\n",
      " 2.19762177e-03 5.34071017e-05 6.48244572e-03 6.80956669e-02\n",
      " 5.28701804e-02 5.41297701e-03 3.62620978e-02 7.46745903e-02\n",
      " 2.01018427e-01 1.32832183e-01 3.45703470e-02 1.16587777e-03]\n"
     ]
    },
    {
     "data": {
      "image/png": "[encoded data removed]",
      "text/plain": [
       "<Figure size 432x288 with 1 Axes>"
      ]
     },
     "metadata": {
      "needs_background": "light"
     },
     "output_type": "display_data"
    },
    {
     "name": "stderr",
     "output_type": "stream",
     "text": [
      "C:\\Users\\Damilola Ologunagba\\Anaconda3\\lib\\site-packages\\PIL\\Image.py:2735: DecompressionBombWarning: Image size (96000000 pixels) exceeds limit of 89478485 pixels, could be decompression bomb DOS attack.\n",
      "  DecompressionBombWarning,\n"
     ]
    }
   ],
   "source": [
    "import pandas as pd\n",
    "import numpy as np\n",
    "import seaborn as sns\n",
    "\n",
    "print(est.feature_importances_)\n",
    "feat_importances = pd.Series(est.feature_importances_, index=train_x.columns)\n",
    "feat_importances.nlargest(22).plot(kind='barh', color =\"red\", align=\"center\", alpha = 1)\n",
    "\n",
    "\n",
    "axes = plt.gca()\n",
    "axes.tick_params(axis=\"y\",direction=\"in\")\n",
    "axes.tick_params(axis=\"x\",direction=\"in\")\n",
    "plt.title(\"Feature Importances\")\n",
    "plt.tight_layout()\n",
    "plt.savefig('FCC metals feature importance.png', dpi=2000)\n",
    "plt.show()\n",
    "\n",
    "from PIL import Image, ImageEnhance \n",
    "im = Image.open(\"FCC metals feature importance.png\")\n",
    "enhancer = ImageEnhance.Sharpness(im)\n",
    "enhanced_im = enhancer.enhance(20000.0)\n",
    "enhanced_im.save(\"FCC metals feature importance enhanced.png\")\n"
   ]
  },
  {
   "cell_type": "code",
   "execution_count": 106,
   "metadata": {},
   "outputs": [
    {
     "name": "stdout",
     "output_type": "stream",
     "text": [
      "0.12267749304978678\n"
     ]
    }
   ],
   "source": [
    "# print result of RMSE for the train set\n",
    "from sklearn import metrics\n",
    "print(np.sqrt(metrics.mean_squared_error(train_y, prediction1)))"
   ]
  },
  {
   "cell_type": "code",
   "execution_count": 14,
   "metadata": {},
   "outputs": [],
   "source": [
    "import numpy as np\n",
    "import pandas as pd\n",
    "import matplotlib.pyplot as plt\n",
    "from sklearn.preprocessing import LabelEncoder\n",
    "from sklearn.metrics import mean_squared_error\n",
    "from sklearn.ensemble import GradientBoostingRegressor\n",
    "from sklearn.model_selection import train_test_split\n",
    "\n",
    "\n",
    "data = pd.read_excel(r\"C:\\Users\\Damilola Ologunagba\\Desktop\\MLDATA\\FCCdata.xlsx\")\n",
    "encode = LabelEncoder()\n",
    "data.System = encode.fit_transform(data.System)\n",
    "train , test = train_test_split(data,test_size=0.2,random_state=6)\n",
    "\n",
    "train_x = train.drop(columns=['Surface Segregation energy', 'System', 'period', 'enthalpy of fusion/ KJ/mol', 'enthalpy of fusion/KJ/mol', 'd-shell.1', 'd-shell', 'Radius/pm', 'period.1', 'Pauling electronegativity', 'ionization energy/ KJ/mol', 'work function/eV', 'Pauling electronegativity.1', 'Atomic no.1', 'electron affinity.1', 'ionization energy/ KJ/mol', 'Atomic no.1', 'density/Kg/m3','Atomic mass.1','electron affinity'],axis=1)\n",
    "train_y = train['Surface Segregation energy']\n",
    "test_x = test.drop(columns=['Surface Segregation energy', 'System', 'period', 'enthalpy of fusion/ KJ/mol', 'enthalpy of fusion/KJ/mol', 'd-shell.1', 'd-shell', 'Radius/pm', 'period.1', 'Pauling electronegativity', 'ionization energy/ KJ/mol', 'work function/eV', 'Pauling electronegativity.1', 'Atomic no.1', 'electron affinity.1', 'ionization energy/ KJ/mol', 'Atomic no.1', 'density/Kg/m3','Atomic mass.1','electron affinity'],axis=1)\n",
    "test_y = test['Surface Segregation energy']\n",
    "\n",
    "est = GradientBoostingRegressor(n_estimators=200, learning_rate=0.1, max_depth=3, random_state=9, loss='ls').fit(train_x, train_y)\n",
    "prediction = est.predict(test_x)\n",
    "prediction1 = est.predict(train_x)"
   ]
  },
  {
   "cell_type": "code",
   "execution_count": 15,
   "metadata": {},
   "outputs": [
    {
     "name": "stdout",
     "output_type": "stream",
     "text": [
      "0.23124545548439943\n"
     ]
    }
   ],
   "source": [
    "# print result of RMSE for the test set\n",
    "from sklearn import metrics\n",
    "print(np.sqrt(metrics.mean_squared_error(test_y, prediction)))"
   ]
  },
  {
   "cell_type": "code",
   "execution_count": 4,
   "metadata": {},
   "outputs": [
    {
     "data": {
      "text/plain": [
       "0.11488173520327212"
      ]
     },
     "execution_count": 4,
     "metadata": {},
     "output_type": "execute_result"
    }
   ],
   "source": [
    "from sklearn.metrics import mean_absolute_error\n",
    "mean_absolute_error(test_y, prediction)"
   ]
  },
  {
   "cell_type": "code",
   "execution_count": 3,
   "metadata": {},
   "outputs": [
    {
     "data": {
      "text/plain": [
       "0.04066501092538981"
      ]
     },
     "execution_count": 3,
     "metadata": {},
     "output_type": "execute_result"
    }
   ],
   "source": [
    "from sklearn.metrics import mean_absolute_error\n",
    "mean_absolute_error(train_y, prediction1)"
   ]
  },
  {
   "cell_type": "code",
   "execution_count": 29,
   "metadata": {},
   "outputs": [
    {
     "data": {
      "text/plain": [
       "0       PtTi\n",
       "1        PtV\n",
       "2       PtCr\n",
       "3       PtMn\n",
       "4       PtFe\n",
       "5       PtCo\n",
       "6       PtNi\n",
       "7       PtCu\n",
       "8      PtZr \n",
       "9       PtNb\n",
       "10      PtMo\n",
       "11      PtTc\n",
       "12      PtRu\n",
       "13      PtRh\n",
       "14      PtPd\n",
       "15      PtAg\n",
       "16      PtHf\n",
       "17      PtTa\n",
       "18       PtW\n",
       "19      PtRe\n",
       "20      PtOs\n",
       "21      PtIr\n",
       "22      PtPt\n",
       "23      PtAu\n",
       "24      AuTi\n",
       "25       AuV\n",
       "26      AuCr\n",
       "27      AuMn\n",
       "28      AuFe\n",
       "29      AuCo\n",
       "       ...  \n",
       "162      CuW\n",
       "163     CuRe\n",
       "164     CuOs\n",
       "165     CuIr\n",
       "166     CuPt\n",
       "167     CuAu\n",
       "168     NiTi\n",
       "169      NiV\n",
       "170     NiCr\n",
       "171     NiMn\n",
       "172     NiFe\n",
       "173     NiCo\n",
       "174     NiNi\n",
       "175     NiCu\n",
       "176     NiZr\n",
       "177     NiNb\n",
       "178     NiMo\n",
       "179     NiTc\n",
       "180     NiRu\n",
       "181     NiRh\n",
       "182     NiPd\n",
       "183     NiAg\n",
       "184     NiHf\n",
       "185     NiTa\n",
       "186      NiW\n",
       "187     NiRe\n",
       "188     NiOs\n",
       "189     NiIr\n",
       "190     NiPt\n",
       "191     NiAu\n",
       "Name: System, Length: 192, dtype: object"
      ]
     },
     "execution_count": 29,
     "metadata": {},
     "output_type": "execute_result"
    }
   ],
   "source": [
    "data = pd.read_excel(r\"C:\\Users\\Damilola Ologunagba\\Desktop\\MLDATA\\FCCdata.xlsx\")\n",
    "data['System']"
   ]
  },
  {
   "cell_type": "code",
   "execution_count": null,
   "metadata": {},
   "outputs": [],
   "source": []
  }
 ],
 "metadata": {
  "kernelspec": {
   "display_name": "Python 3",
   "language": "python",
   "name": "python3"
  },
  "language_info": {
   "codemirror_mode": {
    "name": "ipython",
    "version": 3
   },
   "file_extension": ".py",
   "mimetype": "text/x-python",
   "name": "python",
   "nbconvert_exporter": "python",
   "pygments_lexer": "ipython3",
   "version": "3.7.3"
  }
 },
 "nbformat": 4,
 "nbformat_minor": 2
}
