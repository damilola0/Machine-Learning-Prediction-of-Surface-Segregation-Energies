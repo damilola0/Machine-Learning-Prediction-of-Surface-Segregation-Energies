{
 "cells": [
  {
   "cell_type": "code",
   "execution_count": 32,
   "metadata": {},
   "outputs": [],
   "source": [
    "import numpy as np\n",
    "import pandas as pd\n",
    "import matplotlib.pyplot as plt\n",
    "from sklearn.preprocessing import LabelEncoder\n",
    "from sklearn.metrics import mean_squared_error\n",
    "from sklearn.ensemble import GradientBoostingRegressor\n",
    "from sklearn.model_selection import train_test_split\n",
    "from sklearn import metrics\n",
    "\n",
    "data = pd.read_excel(r\"C:\\Users\\Damilola Ologunagba\\Desktop\\MLDATA\\Alldata.xlsx\")\n",
    "encode = LabelEncoder()\n",
    "data.System = encode.fit_transform(data.System)"
   ]
  },
  {
   "cell_type": "code",
   "execution_count": 33,
   "metadata": {},
   "outputs": [],
   "source": [
    "from sklearn.model_selection import ShuffleSplit\n",
    "X = data.drop(columns=['Surface Segregation energy', 'System'],axis=1)\n",
    "y = data['Surface Segregation energy']\n",
    "rs = ShuffleSplit(n_splits=7, test_size=0.2, random_state=8)\n",
    "rs.get_n_splits(X)\n",
    "X_array = np.array(X)\n",
    "y_array = np.array(y)"
   ]
  },
  {
   "cell_type": "code",
   "execution_count": 34,
   "metadata": {},
   "outputs": [
    {
     "name": "stdout",
     "output_type": "stream",
     "text": [
      "Shuffle Shift Cross Validation\n",
      "R^2: 88.37632%, MSE: 0.05048\n"
     ]
    }
   ],
   "source": [
    "ytests = []\n",
    "ypreds = []\n",
    "ytrains = []\n",
    "ypreds1 = []\n",
    "\n",
    "for train_index, test_index in rs.split(X):\n",
    "    X_train, X_test = X_array[train_index], X_array[test_index] #requires arrays\n",
    "    y_train, y_test = y_array[train_index], y_array[test_index]\n",
    "\n",
    "    model = GradientBoostingRegressor(n_estimators=150, learning_rate=0.1, max_depth=3, random_state=6)\n",
    "    model.fit(X = X_train, y = y_train) \n",
    "    y_pred = model.predict(X_test)\n",
    "    y_pred1 = model.predict(X_train)    \n",
    "    # there is only one y-test and y-pred per iteration over the rs.split, \n",
    "    # so to get a proper graph, we append them to respective lists.\n",
    "        \n",
    "    ytests += list(y_test)\n",
    "    ypreds += list(y_pred)\n",
    "    \n",
    "    ytrains += list(y_train)\n",
    "    ypreds1 += list(y_pred1)\n",
    "rr = metrics.r2_score(ytests, ypreds)\n",
    "ms_error = metrics.mean_squared_error(ytests, ypreds)\n",
    "\n",
    "print(\"Shuffle Shift Cross Validation\")\n",
    "print(\"R^2: {:.5f}%, MSE: {:.5f}\".format(rr*100, ms_error))"
   ]
  },
  {
   "cell_type": "code",
   "execution_count": 35,
   "metadata": {},
   "outputs": [
    {
     "name": "stdout",
     "output_type": "stream",
     "text": [
      "0.22468122195213563\n"
     ]
    }
   ],
   "source": [
    "# print result of RMSE for the test set\n",
    "from sklearn import metrics\n",
    "print(np.sqrt(metrics.mean_squared_error(ytests, ypreds)))"
   ]
  },
  {
   "cell_type": "code",
   "execution_count": 36,
   "metadata": {},
   "outputs": [
    {
     "name": "stdout",
     "output_type": "stream",
     "text": [
      "0.1259665968320253\n"
     ]
    }
   ],
   "source": [
    "# print result of RMSE for the train set\n",
    "from sklearn import metrics\n",
    "print(np.sqrt(metrics.mean_squared_error(ytrains, ypreds1)))"
   ]
  },
  {
   "cell_type": "code",
   "execution_count": 37,
   "metadata": {},
   "outputs": [
    {
     "data": {
      "text/plain": [
       "0.17446476516461712"
      ]
     },
     "execution_count": 37,
     "metadata": {},
     "output_type": "execute_result"
    }
   ],
   "source": [
    "from sklearn.metrics import mean_absolute_error\n",
    "mean_absolute_error(ytests, ypreds)"
   ]
  },
  {
   "cell_type": "code",
   "execution_count": 38,
   "metadata": {},
   "outputs": [
    {
     "data": {
      "text/plain": [
       "0.098872574172002"
      ]
     },
     "execution_count": 38,
     "metadata": {},
     "output_type": "execute_result"
    }
   ],
   "source": [
    "from sklearn.metrics import mean_absolute_error\n",
    "mean_absolute_error(ytrains, ypreds1)"
   ]
  },
  {
   "cell_type": "code",
   "execution_count": 39,
   "metadata": {},
   "outputs": [
    {
     "data": {
      "image/png": "[encoded data removed]",
      "text/plain": [
       "<Figure size 216x216 with 1 Axes>"
      ]
     },
     "metadata": {
      "needs_background": "light"
     },
     "output_type": "display_data"
    }
   ],
   "source": [
    "lineStart = min(ytests)\n",
    "lineEnd = min(ypreds)  \n",
    "\n",
    "plt.figure(figsize=(3,3))\n",
    "plt.scatter(ytrains, ypreds1,\n",
    "          c = 'black', marker = 'o', s = 35, alpha = 0.5,\n",
    "          label = 'Train')\n",
    "plt.scatter(ytests,ypreds,\n",
    "          c = 'blue', marker = 'o', s = 35, alpha = 0.5,\n",
    "          label = 'Test')\n",
    "\n",
    "plt.title('GBR for All metals')\n",
    "plt.tight_layout()\n",
    "axes = plt.gca()\n",
    "axes.set_xlim([-2.5,2])\n",
    "axes.set_ylim([-2.5,2])\n",
    "\n",
    "diag_line, = axes.plot(axes.get_xlim(), axes.get_ylim(), ls=\"--\", c=\"black\")\n",
    "axes.tick_params(axis=\"y\",direction=\"in\")\n",
    "axes.tick_params(axis=\"x\",direction=\"in\")\n",
    "\n",
    "plt.xlabel('Actual SSE (eV)')\n",
    "plt.ylabel('Predicted SSE (eV)')\n",
    "\n",
    "plt.legend(loc='upper left')\n",
    "plt.savefig('GBR for All metalsCV.png', dpi=2000)\n",
    "\n",
    "from PIL import Image, ImageEnhance \n",
    "im = Image.open(\"GBR for All metalsCV.png\")\n",
    "enhancer = ImageEnhance.Sharpness(im)\n",
    "enhanced_im = enhancer.enhance(20000.0)\n",
    "enhanced_im.save(\"GBR for All metalsCV enhanced.png\")"
   ]
  },
  {
   "cell_type": "code",
   "execution_count": 40,
   "metadata": {},
   "outputs": [
    {
     "data": {
      "text/plain": [
       "0.9604541170460081"
      ]
     },
     "execution_count": 40,
     "metadata": {},
     "output_type": "execute_result"
    }
   ],
   "source": [
    "rr = metrics.r2_score(ytrains, ypreds1)\n",
    "rr"
   ]
  },
  {
   "cell_type": "code",
   "execution_count": 41,
   "metadata": {},
   "outputs": [
    {
     "data": {
      "text/plain": [
       "0.8837632419440904"
      ]
     },
     "execution_count": 41,
     "metadata": {},
     "output_type": "execute_result"
    }
   ],
   "source": [
    "rr = metrics.r2_score(ytests, ypreds)\n",
    "rr"
   ]
  },
  {
   "cell_type": "code",
   "execution_count": null,
   "metadata": {},
   "outputs": [],
   "source": []
  }
 ],
 "metadata": {
  "kernelspec": {
   "display_name": "Python 3",
   "language": "python",
   "name": "python3"
  },
  "language_info": {
   "codemirror_mode": {
    "name": "ipython",
    "version": 3
   },
   "file_extension": ".py",
   "mimetype": "text/x-python",
   "name": "python",
   "nbconvert_exporter": "python",
   "pygments_lexer": "ipython3",
   "version": "3.7.3"
  }
 },
 "nbformat": 4,
 "nbformat_minor": 2
}
